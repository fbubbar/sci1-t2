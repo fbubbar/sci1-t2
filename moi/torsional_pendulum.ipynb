{
 "cells": [
  {
   "cell_type": "code",
   "execution_count": 1,
   "metadata": {},
   "outputs": [],
   "source": [
    "import numpy as np\n",
    "import matplotlib.pyplot as plt\n"
   ]
  },
  {
   "cell_type": "code",
   "execution_count": 6,
   "metadata": {},
   "outputs": [],
   "source": [
    "kappa_datafile = \"phone.csv\"\n",
    "kappa_T = np.genfromtxt(kappa_datafile, delimiter=',', skip_header=1)\n"
   ]
  },
  {
   "cell_type": "code",
   "execution_count": 8,
   "metadata": {},
   "outputs": [
    {
     "name": "stdout",
     "output_type": "stream",
     "text": [
      "1.5634865448421204e-06 5.7704689617172984e-08 0.03690769825141025\n"
     ]
    }
   ],
   "source": [
    "T = np.mean(kappa_T * 2)\n",
    "dT = np.std(kappa_T * 2)\n",
    "\n",
    "Iz = 0.00044388566666666673\n",
    "\n",
    "kappa = 4 * np.pi**2 * Iz / T**2\n",
    "dkappa = dT * 8 * np.pi**2 * Iz / T**3\n",
    "\n",
    "print(kappa, dkappa, dkappa/kappa)"
   ]
  },
  {
   "cell_type": "code",
   "execution_count": null,
   "metadata": {},
   "outputs": [],
   "source": []
  }
 ],
 "metadata": {
  "kernelspec": {
   "display_name": "default",
   "language": "python",
   "name": "python3"
  },
  "language_info": {
   "codemirror_mode": {
    "name": "ipython",
    "version": 3
   },
   "file_extension": ".py",
   "mimetype": "text/x-python",
   "name": "python",
   "nbconvert_exporter": "python",
   "pygments_lexer": "ipython3",
   "version": "3.12.2"
  }
 },
 "nbformat": 4,
 "nbformat_minor": 2
}
