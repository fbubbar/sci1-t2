{
 "cells": [
  {
   "cell_type": "code",
   "execution_count": 1,
   "metadata": {},
   "outputs": [],
   "source": [
    "import numpy as np\n",
    "import matplotlib.pyplot as plt"
   ]
  },
  {
   "cell_type": "code",
   "execution_count": 2,
   "metadata": {},
   "outputs": [
    {
     "name": "stdout",
     "output_type": "stream",
     "text": [
      "kappa = 1.56e-06 ± 5.77e-08 N·m\n",
      "relative uncertainty is 3.69%\n"
     ]
    }
   ],
   "source": [
    "# calibration round -- determine kappa from known Iz of phone\n",
    "kappa_file = 'phone.csv'\n",
    "kappa_times = np.genfromtxt(kappa_file, delimiter=',')\n",
    "\n",
    "# Iz estimate -- currently this comes from `box_moi`\n",
    "# TODO: fix this based on mass/dims of phone\n",
    "Iz = 0.00044388566666666673\n",
    "\n",
    "# process half-period data\n",
    "T = np.mean(kappa_times * 2)\n",
    "dT = np.std(kappa_times * 2)\n",
    "\n",
    "# determine kappa\n",
    "kappa = 4 * np.pi**2 * Iz / T**2\n",
    "\n",
    "# # propagate uncertainty from both inputs\n",
    "# partial_I = 4 * np.pi**2 / T**2\n",
    "# partial_T = 4 * np.pi\n",
    "\n",
    "dkappa = dT * 8 * np.pi**2 * Iz / T**3\n",
    "\n",
    "print(f'kappa = {kappa:.2e} ± {dkappa:.2e} N·m')\n",
    "print(f'relative uncertainty is {dkappa/kappa*100:.2f}%')"
   ]
  },
  {
   "cell_type": "code",
   "execution_count": 3,
   "metadata": {},
   "outputs": [
    {
     "name": "stdout",
     "output_type": "stream",
     "text": [
      "Ix = 6.50e-02 ± 1.95e-02 kg·m^2 (rel. unc. 30.03%)\n",
      "Iy = 1.61e-03 ± 8.83e-05 kg·m^2 (rel. unc. 5.47%)\n"
     ]
    }
   ],
   "source": [
    "racquet_axes = ['racquet_x.csv', 'racquet_y.csv', 'racquet_z.csv']\n",
    "\n",
    "Is = []\n",
    "dIs = []\n",
    "for rf in racquet_axes:\n",
    "    data = np.genfromtxt(rf, delimiter=',')\n",
    "    Ts = np.mean(data * 2)\n",
    "    dTs = np.std(data * 2)\n",
    "\n",
    "    # estimate moi\n",
    "    I = kappa * Ts**2 / (4 * np.pi**2)\n",
    "\n",
    "    # propagate uncertainty from both inputs\n",
    "    partial_T = kappa * Ts / (2 * np.pi**2)\n",
    "    partial_kappa = Ts**2 / (4 * np.pi**2)\n",
    "    dI = np.sqrt((partial_T * dTs)**2 + (partial_kappa * dkappa)**2)\n",
    "\n",
    "    Is.append(I)\n",
    "    dIs.append(dI)\n",
    "\n",
    "\n",
    "# break into components\n",
    "Ix, Iy, Iz = Is\n",
    "dIx, dIy, dIz = dIs\n",
    "\n",
    "print(f'Ix = {Ix:.2e} ± {dIx:.2e} kg·m^2 (rel. unc. {dIx/Ix*100:.2f}%)')\n",
    "print(f'Iy = {Iy:.2e} ± {dIy:.2e} kg·m^2 (rel. unc. {dIy/Iy*100:.2f}%)')\n",
    "print(f'Iz = {Iz:.2e} ± {dIz:.2e} kg·m^2 (rel. unc. {dIz/Iz*100:.2f}%)')"
   ]
  }
 ],
 "metadata": {
  "kernelspec": {
   "display_name": "Python 3",
   "language": "python",
   "name": "python3"
  },
  "language_info": {
   "codemirror_mode": {
    "name": "ipython",
    "version": 3
   },
   "file_extension": ".py",
   "mimetype": "text/x-python",
   "name": "python",
   "nbconvert_exporter": "python",
   "pygments_lexer": "ipython3",
   "version": "3.11.10"
  }
 },
 "nbformat": 4,
 "nbformat_minor": 2
}
