{
 "cells": [
  {
   "cell_type": "code",
   "execution_count": 1,
   "metadata": {},
   "outputs": [],
   "source": [
    "import sys\n",
    "sys.path.append('../..')\n",
    "\n",
    "import numpy as np\n",
    "\n",
    "from analyse.prelude import box_moi, PHONE_DIMS, PHONE_MASS"
   ]
  },
  {
   "cell_type": "code",
   "execution_count": 2,
   "metadata": {},
   "outputs": [
    {
     "name": "stdout",
     "output_type": "stream",
     "text": [
      "T = 105.86889 ± 1.95369 s\n",
      "kappa = 1.34679 ± 0.04971 µN·m (rel. 3.69%)\n"
     ]
    }
   ],
   "source": [
    "# calibration round -- determine kappa from known Iz of phone\n",
    "kappa_file = 'phone.csv'\n",
    "kappa_times = np.genfromtxt(kappa_file, delimiter=',')\n",
    "\n",
    "# estimate Iz of phone using box model\n",
    "_Ix, _Iy, Iz = box_moi(*PHONE_DIMS, PHONE_MASS)\n",
    "\n",
    "# process half-period data\n",
    "T = np.mean(kappa_times * 2)\n",
    "dT = np.std(kappa_times * 2)\n",
    "\n",
    "print(f'T = {T:.5f} ± {dT:.5f} s')\n",
    "\n",
    "# determine kappa\n",
    "kappa = 4 * np.pi**2 * Iz / T**2\n",
    "\n",
    "# # propagate uncertainty from both inputs\n",
    "# partial_I = 4 * np.pi**2 / T**2\n",
    "# partial_T = 4 * np.pi\n",
    "\n",
    "dkappa = dT * 8 * np.pi**2 * Iz / T**3\n",
    "\n",
    "print(f'kappa = {kappa*1e6:.5f} ± {dkappa*1e6:.5f} µN·m (rel. {dkappa/kappa*100:.2f}%)')"
   ]
  },
  {
   "cell_type": "code",
   "execution_count": 3,
   "metadata": {},
   "outputs": [
    {
     "name": "stdout",
     "output_type": "stream",
     "text": [
      "T = 201.93600 ± 4.07455 s\n",
      "Iy = 1.39113 ± 0.07608 g·m^2 (rel. unc. 5.47%)\n"
     ]
    }
   ],
   "source": [
    "data_file = 'racquet_y.csv'\n",
    "\n",
    "data = np.genfromtxt(data_file, delimiter=',')\n",
    "Ts = np.mean(data * 2)\n",
    "dTs = np.std(data * 2)\n",
    "\n",
    "print(f'T = {Ts:.5f} ± {dTs:.5f} s')\n",
    "\n",
    "# estimate moi\n",
    "Iy = kappa * Ts**2 / (4 * np.pi**2)\n",
    "\n",
    "# propagate uncertainty from both inputs\n",
    "partial_T = kappa * Ts / (2 * np.pi**2)\n",
    "partial_kappa = Ts**2 / (4 * np.pi**2)\n",
    "dIy = np.sqrt((partial_T * dTs)**2 + (partial_kappa * dkappa)**2)\n",
    "\n",
    "print(f'Iy = {Iy*1e3:.5f} ± {dIy*1e3:.5f} g·m^2 (rel. unc. {dIy/Iy*100:.2f}%)')"
   ]
  }
 ],
 "metadata": {
  "kernelspec": {
   "display_name": "Python 3",
   "language": "python",
   "name": "python3"
  },
  "language_info": {
   "codemirror_mode": {
    "name": "ipython",
    "version": 3
   },
   "file_extension": ".py",
   "mimetype": "text/x-python",
   "name": "python",
   "nbconvert_exporter": "python",
   "pygments_lexer": "ipython3",
   "version": "3.11.10"
  }
 },
 "nbformat": 4,
 "nbformat_minor": 2
}
