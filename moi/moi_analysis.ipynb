{
 "cells": [
  {
   "cell_type": "code",
   "execution_count": 1,
   "metadata": {},
   "outputs": [],
   "source": [
    "import sys\n",
    "sys.path.append('..')\n",
    "\n",
    "from analyse.prelude import *"
   ]
  },
  {
   "cell_type": "code",
   "execution_count": 2,
   "metadata": {},
   "outputs": [
    {
     "name": "stdout",
     "output_type": "stream",
     "text": [
      "[INFO] Processing '../moi/physical/x-axis/Gyroscope rotation rate 2025-03-07 14-02-08/Raw Data.csv' ...\n",
      "[INFO] Processing '../moi/physical/x-axis/Gyroscope rotation rate 2025-03-07 14-40-38/Raw Data.csv' ...\n",
      "[INFO] -> discarding segment 1\n",
      "[INFO] Found 22 trials in 2 files.\n"
     ]
    }
   ],
   "source": [
    "x_trials, x_meta = load_files([\"x-axis\"], pendulum=True)\n",
    "#plot_trials_w(x_trials, x_meta)"
   ]
  },
  {
   "cell_type": "code",
   "execution_count": 3,
   "metadata": {},
   "outputs": [
    {
     "name": "stdout",
     "output_type": "stream",
     "text": [
      "[INFO] finding period based on 158 samples ...\n",
      "Tx = 1.436 ± 0.039, rel. unc. = 2.698%\n"
     ]
    }
   ],
   "source": [
    "Tx, dTx = zero_method(x_trials, 'Gyroscope x (rad/s)')\n",
    "print(f'Tx = {Tx:.3f} ± {dTx:.3f}, rel. unc. = {100*dTx/Tx:.3f}%')"
   ]
  },
  {
   "cell_type": "code",
   "execution_count": 4,
   "metadata": {},
   "outputs": [
    {
     "name": "stdout",
     "output_type": "stream",
     "text": [
      "[INFO] Processing '../moi/physical/z-axis/Gyroscope rotation rate 2025-03-07 15-01-01/Raw Data.csv' ...\n",
      "[INFO] Found 23 trials in 1 files.\n"
     ]
    }
   ],
   "source": [
    "z_trials, z_meta = load_files([\"z-axis\"], pendulum=True)\n",
    "z_trials, z_meta = z_trials[:16]+z_trials[18:], z_meta[:16]+z_meta[18:] # fix glitch in file processing later?"
   ]
  },
  {
   "cell_type": "code",
   "execution_count": 5,
   "metadata": {},
   "outputs": [
    {
     "name": "stdout",
     "output_type": "stream",
     "text": [
      "[INFO] finding period based on 160 samples ...\n",
      "Tz = 1.450 ± 0.023, rel. unc. = 1.583%\n"
     ]
    }
   ],
   "source": [
    "Tz, dTz = zero_method(z_trials, 'Gyroscope z (rad/s)')\n",
    "print(f'Tz = {Tz:.3f} ± {dTz:.3f}, rel. unc. = {100*dTz/Tz:.3f}%')"
   ]
  },
  {
   "cell_type": "code",
   "execution_count": 22,
   "metadata": {},
   "outputs": [
    {
     "name": "stdout",
     "output_type": "stream",
     "text": [
      "Ix_butt = (9.68134e-02 ± 5.35376e-03) kg m^2, rel. unc. 5.530%\n",
      "Iz_butt = (9.87011e-02 ± 3.34485e-03) kg m^2, rel. unc. 3.389%\n",
      "\n",
      "parallel-axis adjustment:\n",
      "delta_I = (-7.79978e-02 ± 1.88857e-03) kg m^2, rel. unc. 2.421%\n",
      "\n",
      "I_x = (1.88157e-02 ± 5.67710e-03) kg m^2, rel. unc. 30.172%\n",
      "I_z = (2.07033e-02 ± 5.67710e-03) kg m^2, rel. unc. 18.553%\n"
     ]
    }
   ],
   "source": [
    "g = 9.809    # m/s^2\n",
    "\n",
    "r_cm = 0.413 # distance from top of racket to COM in meters\n",
    "dr_cm = 0.02 / 4 # uncertainty in r_cm (based off 2cm 95% CI)\n",
    "\n",
    "# we assume that uncertainty in the mass is negligible \n",
    "# compared to the other uncertainties involved\n",
    "M_racquet = 0.285 # mass of racquet [kg]\n",
    "M_phone = 0.17228 # mass of phone [kg]\n",
    "M = M_racquet + M_phone\n",
    "\n",
    "# equation for a physical pendulum:\n",
    "# I = m g L T^2 / (4 pi^2)\n",
    "Ix_butt = M * g * r_cm * Tx**2 / (4*np.pi**2)\n",
    "Iz_butt = M * g * r_cm * Tz**2 / (4*np.pi**2)\n",
    "\n",
    "# partial I / partial r_cm\n",
    "Ix_partial_r = M * g * Tx**2 / (4*np.pi**2)\n",
    "Iz_partial_r = M * g * Tz**2 / (4*np.pi**2)\n",
    "\n",
    "# partial I / partial T\n",
    "Ix_partial_T = 2 * M * g * r_cm * Tx / (4*np.pi**2)\n",
    "Iz_partial_T = 2 * M * g * r_cm * Tz / (4*np.pi**2)\n",
    "\n",
    "# propagate uncertainties\n",
    "dI_x_butt = np.sqrt((Ix_partial_r * dr_cm)**2 + (Ix_partial_T * dTx)**2)\n",
    "dI_z_butt = np.sqrt((Iz_partial_r * dr_cm)**2 + (Iz_partial_T * dTz)**2)\n",
    "\n",
    "print(f'Ix_butt = ({Ix_butt:.5e} ± {dI_x_butt:.5e}) kg m^2, rel. unc. {100*dI_x_butt/Ix_butt:.3f}%')\n",
    "print(f'Iz_butt = ({Iz_butt:.5e} ± {dI_z_butt:.5e}) kg m^2, rel. unc. {100*dI_z_butt/Iz_butt:.3f}%')\n",
    "print()\n",
    "\n",
    "# parallel axis theorem adjustment\n",
    "delta_I = -M*r_cm**2\n",
    "d_delta_I = 2*M*r_cm*dr_cm\n",
    "\n",
    "print(f'parallel-axis adjustment:')\n",
    "print(f'delta_I = ({delta_I:.5e} ± {d_delta_I:.5e}) kg m^2, rel. unc. {100*d_delta_I/abs(delta_I):.3f}%')\n",
    "print()\n",
    "\n",
    "Ix = Ix_butt + delta_I\n",
    "Iz = Iz_butt + delta_I\n",
    "\n",
    "dIx = np.sqrt(dI_x_butt**2 + d_delta_I**2)\n",
    "dIz = np.sqrt(dI_z_butt**2 + d_delta_I**2)\n",
    "\n",
    "print(f\"I_x = ({Ix:.5e} ± {dIx:.5e}) kg m^2, rel. unc. {100*dIx/Ix:.3f}%\")\n",
    "print(f\"I_z = ({Iz:.5e} ± {dIx:.5e}) kg m^2, rel. unc. {100*dIz/Iz:.3f}%\")"
   ]
  }
 ],
 "metadata": {
  "kernelspec": {
   "display_name": "Python 3",
   "language": "python",
   "name": "python3"
  },
  "language_info": {
   "codemirror_mode": {
    "name": "ipython",
    "version": 3
   },
   "file_extension": ".py",
   "mimetype": "text/x-python",
   "name": "python",
   "nbconvert_exporter": "python",
   "pygments_lexer": "ipython3",
   "version": "3.11.10"
  }
 },
 "nbformat": 4,
 "nbformat_minor": 2
}
