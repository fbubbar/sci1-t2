{
 "cells": [
  {
   "cell_type": "code",
   "execution_count": 1,
   "metadata": {},
   "outputs": [],
   "source": [
    "import sys\n",
    "sys.path.append('..')\n",
    "\n",
    "from analyse.prelude import *"
   ]
  },
  {
   "cell_type": "code",
   "execution_count": null,
   "metadata": {},
   "outputs": [],
   "source": [
    "x_trials, x_meta = load_files([\"x-axis\"], pendulum=True)\n",
    "#plot_trials_w(x_trials, x_meta)"
   ]
  },
  {
   "cell_type": "code",
   "execution_count": null,
   "metadata": {},
   "outputs": [],
   "source": [
    "T_x, dT_x = zero_method(x_trials, 'Gyroscope x (rad/s)')\n",
    "print(f\"T for x = {T_x:.3f} ± {dT_x:.3f}, relative error = {dT_x/T_x:.3f}\")"
   ]
  },
  {
   "cell_type": "code",
   "execution_count": null,
   "metadata": {},
   "outputs": [],
   "source": [
    "z_trials, z_meta = load_files([\"z-axis\"], pendulum=True)\n",
    "z_trials, z_meta = z_trials[:16]+z_trials[18:], z_meta[:16]+z_meta[18:] # fix glitch in file processing later?"
   ]
  },
  {
   "cell_type": "code",
   "execution_count": null,
   "metadata": {},
   "outputs": [],
   "source": [
    "T_z, dT_z = zero_method(z_trials, 'Gyroscope z (rad/s)')\n",
    "print(f\"T for z = {T_z:.3f} ± {dT_z:.3f}, relative error = {dT_z/T_z:.3f}\")"
   ]
  },
  {
   "cell_type": "code",
   "execution_count": null,
   "metadata": {},
   "outputs": [],
   "source": [
    "D = 0.3 #distance from top of racket to COM in meters\n",
    "g = 9.81 # m/s^2\n",
    "M = 0.450 # kg mass of tennis + phone\n",
    "I_x = M*g*D*T_x**2/(4*np.pi**2) - M*D**2\n",
    "I_z = M*g*D*T_z**2/(4*np.pi**2) - M*D**2\n",
    "print(f\"I_x = {I_x:.6f} kg m^2\")\n",
    "print(f\"I_z = {I_z:.6f} kg m^2\")"
   ]
  }
 ],
 "metadata": {
  "kernelspec": {
   "display_name": "Python 3",
   "language": "python",
   "name": "python3"
  },
  "language_info": {
   "codemirror_mode": {
    "name": "ipython",
    "version": 3
   },
   "file_extension": ".py",
   "mimetype": "text/x-python",
   "name": "python",
   "nbconvert_exporter": "python",
   "pygments_lexer": "ipython3",
   "version": "3.11.10"
  }
 },
 "nbformat": 4,
 "nbformat_minor": 2
}
