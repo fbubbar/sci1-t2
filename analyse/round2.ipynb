{
 "cells": [
  {
   "cell_type": "code",
   "execution_count": 1,
   "metadata": {},
   "outputs": [],
   "source": [
    "import sys\n",
    "sys.path.append('..')\n",
    "\n",
    "from analyse.prelude import *"
   ]
  },
  {
   "cell_type": "code",
   "execution_count": 2,
   "metadata": {},
   "outputs": [
    {
     "name": "stdout",
     "output_type": "stream",
     "text": [
      "[INFO] Processing '../data/round2/Gyroscope rotation rate 2025-01-23 18-29-01/Raw Data.csv' ...\n",
      "[INFO] Found 5 trials in 1 files.\n"
     ]
    }
   ],
   "source": [
    "trials, meta = load_files('round2')\n",
    "# plot_trials_w(trials, meta)"
   ]
  },
  {
   "cell_type": "code",
   "execution_count": 3,
   "metadata": {},
   "outputs": [],
   "source": [
    "I = box_moi(*PHONE_DIMS, PHONE_MASS)\n",
    "\n",
    "for trial in trials:\n",
    "    add_angular_momentum(trial, I)\n",
    "\n",
    "# plot_trials_L(trials, meta)"
   ]
  },
  {
   "cell_type": "code",
   "execution_count": 4,
   "metadata": {},
   "outputs": [
    {
     "name": "stdout",
     "output_type": "stream",
     "text": [
      "Results for segment 0 of ../data/round2/Gyroscope rotation rate 2025-01-23 18-29-01:\n",
      "-> dominant frequency: 1.02 ± 1.13 Hz\n",
      "-> period: 0.9805 ± 1.0826 seconds\n",
      "-> peak-to-noise ratio: 13.06\n",
      "Results for segment 1 of ../data/round2/Gyroscope rotation rate 2025-01-23 18-29-01:\n",
      "-> dominant frequency: 0.75 ± 1.04 Hz\n",
      "-> period: 1.3262 ± 1.8278 seconds\n",
      "-> peak-to-noise ratio: 16.61\n",
      "Results for segment 2 of ../data/round2/Gyroscope rotation rate 2025-01-23 18-29-01:\n",
      "-> dominant frequency: 1.21 ± 0.56 Hz\n",
      "-> period: 0.8235 ± 0.3818 seconds\n",
      "-> peak-to-noise ratio: 21.15\n",
      "Results for segment 3 of ../data/round2/Gyroscope rotation rate 2025-01-23 18-29-01:\n",
      "-> dominant frequency: 1.12 ± 0.45 Hz\n",
      "-> period: 0.8946 ± 0.3567 seconds\n",
      "-> peak-to-noise ratio: 23.85\n",
      "Results for segment 4 of ../data/round2/Gyroscope rotation rate 2025-01-23 18-29-01:\n",
      "-> dominant frequency: 0.97 ± 0.72 Hz\n",
      "-> period: 1.0328 ± 0.7718 seconds\n",
      "-> peak-to-noise ratio: 18.31\n"
     ]
    }
   ],
   "source": [
    "period_data = analyse_trial_freqs(trials, meta)"
   ]
  }
 ],
 "metadata": {
  "kernelspec": {
   "display_name": "Python 3",
   "language": "python",
   "name": "python3"
  },
  "language_info": {
   "codemirror_mode": {
    "name": "ipython",
    "version": 3
   },
   "file_extension": ".py",
   "mimetype": "text/x-python",
   "name": "python",
   "nbconvert_exporter": "python",
   "pygments_lexer": "ipython3",
   "version": "3.11.10"
  }
 },
 "nbformat": 4,
 "nbformat_minor": 2
}
