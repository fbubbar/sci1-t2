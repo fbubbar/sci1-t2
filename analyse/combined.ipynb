{
 "cells": [
  {
   "cell_type": "markdown",
   "metadata": {},
   "source": [
    "# Master Notebook with Combined Results"
   ]
  },
  {
   "cell_type": "markdown",
   "metadata": {},
   "source": [
    "This notebook combines all relevant trial data and will apply statistical methods to the combined results. \n",
    "\n",
    "Currently it includes an overall $T$-$\\omega_0$ plot. We are working on adding a linear model with metrics to this chart."
   ]
  },
  {
   "cell_type": "code",
   "execution_count": null,
   "metadata": {},
   "outputs": [],
   "source": [
    "import sys\n",
    "sys.path.append('..')\n",
    "\n",
    "from analyse.prelude import *"
   ]
  },
  {
   "cell_type": "code",
   "execution_count": null,
   "metadata": {},
   "outputs": [],
   "source": [
    "trials, meta = load_files(['round2', 'round3', 'round4'])\n",
    "\n",
    "for trial in trials:\n",
    "    add_angular_momentum(trial, PRQ_I)\n",
    "\n",
    "trials = filter_trials(trials, 1.1)\n",
    "print('Number of filtered trials:', len(trials))"
   ]
  },
  {
   "cell_type": "code",
   "execution_count": null,
   "metadata": {},
   "outputs": [],
   "source": [
    "first_row = []\n",
    "last_row = []\n",
    "for trial in trials:\n",
    "    #print(trial.iloc[0])\n",
    "    first_row.append(trial.iloc[0])\n",
    "    last_row.append(trial.iloc[-1])\n",
    "first_row = pd.DataFrame(first_row).reset_index(drop=True)\n",
    "last_row  = pd.DataFrame(last_row).reset_index(drop=True)\n",
    "L0 = np.sqrt(first_row['Lx']**2 + first_row['Ly']**2 + first_row['Lz']**2)\n",
    "Lf = np.sqrt(last_row['Lx']**2 + last_row['Ly']**2 + last_row['Lz']**2)\n",
    "delta_L = Lf - L0\n",
    "#print(last_row.iloc[0])\n",
    "delta_T = last_row['Time (s)'] - first_row['Time (s)']\n",
    "average_torque = delta_L / delta_T\n",
    "print(average_torque.head())\n",
    "tau = average_torque.mean()\n",
    "dtau = average_torque.std()\n",
    "print('tau =', tau, '±', dtau)\n"
   ]
  },
  {
   "cell_type": "code",
   "execution_count": null,
   "metadata": {},
   "outputs": [],
   "source": [
    "plot_trials_L([trials[24]], [meta[24]])"
   ]
  },
  {
   "cell_type": "code",
   "execution_count": null,
   "metadata": {},
   "outputs": [],
   "source": [
    "period_data = point_trial_periods(trials, meta, plot_points=False)\n",
    "\n",
    "plot_speed_vs_period(period_data)\n",
    "\n",
    "fit_model(period_data)"
   ]
  },
  {
   "cell_type": "code",
   "execution_count": null,
   "metadata": {},
   "outputs": [],
   "source": []
  }
 ],
 "metadata": {
  "kernelspec": {
   "display_name": "Python 3",
   "language": "python",
   "name": "python3"
  },
  "language_info": {
   "codemirror_mode": {
    "name": "ipython",
    "version": 3
   },
   "file_extension": ".py",
   "mimetype": "text/x-python",
   "name": "python",
   "nbconvert_exporter": "python",
   "pygments_lexer": "ipython3",
   "version": "3.11.10"
  }
 },
 "nbformat": 4,
 "nbformat_minor": 2
}
