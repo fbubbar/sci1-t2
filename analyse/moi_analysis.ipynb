{
 "cells": [
  {
   "cell_type": "code",
   "execution_count": 57,
   "metadata": {},
   "outputs": [],
   "source": [
    "import sys\n",
    "sys.path.append('..')\n",
    "\n",
    "from analyse.prelude import *"
   ]
  },
  {
   "cell_type": "code",
   "execution_count": 58,
   "metadata": {},
   "outputs": [
    {
     "name": "stdout",
     "output_type": "stream",
     "text": [
      "[INFO] Processing '../moi/physical/x-axis/Gyroscope rotation rate 2025-03-07 14-02-08/Raw Data.csv' ...\n",
      "[INFO] Processing '../moi/physical/x-axis/Gyroscope rotation rate 2025-03-07 14-40-38/Raw Data.csv' ...\n",
      "[INFO] -> discarding segment 1\n",
      "[INFO] Found 22 trials in 2 files.\n"
     ]
    }
   ],
   "source": [
    "x_trials, x_meta = load_files([\"x-axis\"], pendulum=True)\n",
    "#plot_trials_w(x_trials, x_meta)"
   ]
  },
  {
   "cell_type": "code",
   "execution_count": 59,
   "metadata": {},
   "outputs": [
    {
     "name": "stdout",
     "output_type": "stream",
     "text": [
      "158\n",
      "T for x = 1.436 ± 0.039, relative error = 0.027\n"
     ]
    }
   ],
   "source": [
    "def zero_method_x(trials):\n",
    "    diffs = []\n",
    "    for trial in trials:\n",
    "        wi = trial['Gyroscope x (rad/s)']\n",
    "        time = trial['Time (s)']\n",
    "\n",
    "        end_indices = np.sign(wi).diff().fillna(0) != 0\n",
    "        start_indices = list(end_indices[1:]) + [False]\n",
    "\n",
    "        x1 = np.array(time[start_indices])\n",
    "        x2 = np.array(time[end_indices])\n",
    "        y1 = np.array(wi[start_indices])\n",
    "        y2 = np.array(wi[end_indices])\n",
    "        zero_times = x1 - y1*(x2-x1)/(y2-y1)\n",
    "        diffs = np.concatenate([diffs, np.diff(zero_times)])\n",
    "    print(len(diffs))\n",
    "    T = 2*np.mean(diffs)\n",
    "    dT = 2*np.std(diffs)\n",
    "    return T, dT\n",
    "\n",
    "T_x, dT_x = zero_method_x(x_trials)\n",
    "print(f\"T for x = {T_x:.3f} ± {dT_x:.3f}, relative error = {dT_x/T_x:.3f}\")"
   ]
  },
  {
   "cell_type": "code",
   "execution_count": 60,
   "metadata": {},
   "outputs": [
    {
     "name": "stdout",
     "output_type": "stream",
     "text": [
      "[INFO] Processing '../moi/physical/z-axis/Gyroscope rotation rate 2025-03-07 15-01-01/Raw Data.csv' ...\n",
      "[INFO] Found 23 trials in 1 files.\n"
     ]
    }
   ],
   "source": [
    "z_trials, z_meta = load_files([\"z-axis\"], pendulum=True)\n",
    "#plot_trials_w(z_trials, z_meta)"
   ]
  },
  {
   "cell_type": "code",
   "execution_count": 61,
   "metadata": {},
   "outputs": [],
   "source": [
    "z_trials, z_meta = z_trials[:16]+z_trials[18:], z_meta[:16]+z_meta[18:] # fix glitch in file processing later?\n"
   ]
  },
  {
   "cell_type": "code",
   "execution_count": 62,
   "metadata": {},
   "outputs": [
    {
     "name": "stdout",
     "output_type": "stream",
     "text": [
      "160\n",
      "T for z = 1.450 ± 0.023, relative error = 0.016\n"
     ]
    }
   ],
   "source": [
    "def zero_method_z(trials):\n",
    "    diffs = []\n",
    "    for trial in trials:\n",
    "        wi = trial['Gyroscope z (rad/s)']\n",
    "        time = trial['Time (s)']\n",
    "\n",
    "        end_indices = np.sign(wi).diff().fillna(0) != 0\n",
    "        start_indices = list(end_indices[1:]) + [False]\n",
    "\n",
    "        x1 = np.array(time[start_indices])\n",
    "        x2 = np.array(time[end_indices])\n",
    "        y1 = np.array(wi[start_indices])\n",
    "        y2 = np.array(wi[end_indices])\n",
    "        zero_times = x1 - y1*(x2-x1)/(y2-y1)\n",
    "        diffs = np.concatenate([diffs, np.diff(zero_times)])\n",
    "    print(len(diffs))\n",
    "    T = 2*np.mean(diffs)\n",
    "    dT = 2*np.std(diffs)\n",
    "    return T, dT\n",
    "\n",
    "T_z, dT_z = zero_method_z(z_trials)\n",
    "print(f\"T for z = {T_z:.3f} ± {dT_z:.3f}, relative error = {dT_z/T_z:.3f}\")"
   ]
  },
  {
   "cell_type": "code",
   "execution_count": null,
   "metadata": {},
   "outputs": [
    {
     "name": "stdout",
     "output_type": "stream",
     "text": [
      "I_x = 0.029 kg m^2\n",
      "I_z = 0.030 kg m^2\n"
     ]
    }
   ],
   "source": [
    "D = 0.3 #distance from top of racket to COM in meters\n",
    "g = 9.81 # m/s^2\n",
    "M = 0.450 # kg mass of tennis + phone\n",
    "I_x = M*g*D*T_x**2/(4*np.pi**2) - M*D**2\n",
    "I_z = M*g*D*T_z**2/(4*np.pi**2) - M*D**2\n",
    "print(f\"I_x = {I_x:.6f} kg m^2\")\n",
    "print(f\"I_z = {I_z:.6f} kg m^2\")"
   ]
  },
  {
   "cell_type": "code",
   "execution_count": null,
   "metadata": {},
   "outputs": [],
   "source": []
  }
 ],
 "metadata": {
  "kernelspec": {
   "display_name": "default",
   "language": "python",
   "name": "python3"
  },
  "language_info": {
   "codemirror_mode": {
    "name": "ipython",
    "version": 3
   },
   "file_extension": ".py",
   "mimetype": "text/x-python",
   "name": "python",
   "nbconvert_exporter": "python",
   "pygments_lexer": "ipython3",
   "version": "3.12.2"
  }
 },
 "nbformat": 4,
 "nbformat_minor": 2
}
